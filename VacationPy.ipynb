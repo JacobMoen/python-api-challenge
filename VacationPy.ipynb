{
 "cells": [
  {
   "cell_type": "markdown",
   "metadata": {},
   "source": [
    "# VacationPy\n",
    "---\n",
    "\n",
    "## Starter Code to Import Libraries and Load the Weather and Coordinates Data"
   ]
  },
  {
   "cell_type": "code",
   "execution_count": 8,
   "metadata": {},
   "outputs": [],
   "source": [
    "# Dependencies and Setup\n",
    "import hvplot.pandas\n",
    "import pandas as pd\n",
    "import requests\n",
    "import os\n",
    "\n",
    "# Import API key\n",
    "from api_keys import geoapify_key"
   ]
  },
  {
   "cell_type": "markdown",
   "metadata": {},
   "source": [
    "---\n",
    "\n",
    "### Step 1: Create a map that displays a point for every city in the `city_data_df` DataFrame. The size of the point should be the humidity in each city."
   ]
  },
  {
   "cell_type": "code",
   "execution_count": 9,
   "metadata": {},
   "outputs": [
    {
     "data": {
      "text/html": [
       "<div>\n",
       "<style scoped>\n",
       "    .dataframe tbody tr th:only-of-type {\n",
       "        vertical-align: middle;\n",
       "    }\n",
       "\n",
       "    .dataframe tbody tr th {\n",
       "        vertical-align: top;\n",
       "    }\n",
       "\n",
       "    .dataframe thead th {\n",
       "        text-align: right;\n",
       "    }\n",
       "</style>\n",
       "<table border=\"1\" class=\"dataframe\">\n",
       "  <thead>\n",
       "    <tr style=\"text-align: right;\">\n",
       "      <th></th>\n",
       "      <th>City_ID</th>\n",
       "      <th>City</th>\n",
       "      <th>Lat</th>\n",
       "      <th>Lng</th>\n",
       "      <th>Max Temp</th>\n",
       "      <th>Humidity</th>\n",
       "      <th>Cloudiness</th>\n",
       "      <th>Wind Speed</th>\n",
       "      <th>Country</th>\n",
       "      <th>Date</th>\n",
       "    </tr>\n",
       "  </thead>\n",
       "  <tbody>\n",
       "    <tr>\n",
       "      <th>0</th>\n",
       "      <td>0</td>\n",
       "      <td>avarua</td>\n",
       "      <td>-21.2078</td>\n",
       "      <td>-159.7750</td>\n",
       "      <td>300.18</td>\n",
       "      <td>83</td>\n",
       "      <td>75</td>\n",
       "      <td>12.35</td>\n",
       "      <td>CK</td>\n",
       "      <td>1702244412</td>\n",
       "    </tr>\n",
       "    <tr>\n",
       "      <th>1</th>\n",
       "      <td>1</td>\n",
       "      <td>edinburgh of the seven seas</td>\n",
       "      <td>-37.0676</td>\n",
       "      <td>-12.3116</td>\n",
       "      <td>286.80</td>\n",
       "      <td>69</td>\n",
       "      <td>97</td>\n",
       "      <td>6.48</td>\n",
       "      <td>SH</td>\n",
       "      <td>1702244413</td>\n",
       "    </tr>\n",
       "    <tr>\n",
       "      <th>2</th>\n",
       "      <td>2</td>\n",
       "      <td>ushuaia</td>\n",
       "      <td>-54.8000</td>\n",
       "      <td>-68.3000</td>\n",
       "      <td>280.96</td>\n",
       "      <td>57</td>\n",
       "      <td>0</td>\n",
       "      <td>8.75</td>\n",
       "      <td>AR</td>\n",
       "      <td>1702244274</td>\n",
       "    </tr>\n",
       "    <tr>\n",
       "      <th>3</th>\n",
       "      <td>3</td>\n",
       "      <td>grytviken</td>\n",
       "      <td>-54.2811</td>\n",
       "      <td>-36.5092</td>\n",
       "      <td>278.77</td>\n",
       "      <td>90</td>\n",
       "      <td>100</td>\n",
       "      <td>6.68</td>\n",
       "      <td>GS</td>\n",
       "      <td>1702244276</td>\n",
       "    </tr>\n",
       "    <tr>\n",
       "      <th>4</th>\n",
       "      <td>4</td>\n",
       "      <td>kimbe</td>\n",
       "      <td>-5.5502</td>\n",
       "      <td>150.1429</td>\n",
       "      <td>297.95</td>\n",
       "      <td>97</td>\n",
       "      <td>100</td>\n",
       "      <td>1.17</td>\n",
       "      <td>PG</td>\n",
       "      <td>1702244415</td>\n",
       "    </tr>\n",
       "  </tbody>\n",
       "</table>\n",
       "</div>"
      ],
      "text/plain": [
       "   City_ID                         City      Lat       Lng  Max Temp  \\\n",
       "0        0                       avarua -21.2078 -159.7750    300.18   \n",
       "1        1  edinburgh of the seven seas -37.0676  -12.3116    286.80   \n",
       "2        2                      ushuaia -54.8000  -68.3000    280.96   \n",
       "3        3                    grytviken -54.2811  -36.5092    278.77   \n",
       "4        4                        kimbe  -5.5502  150.1429    297.95   \n",
       "\n",
       "   Humidity  Cloudiness  Wind Speed Country        Date  \n",
       "0        83          75       12.35      CK  1702244412  \n",
       "1        69          97        6.48      SH  1702244413  \n",
       "2        57           0        8.75      AR  1702244274  \n",
       "3        90         100        6.68      GS  1702244276  \n",
       "4        97         100        1.17      PG  1702244415  "
      ]
     },
     "execution_count": 9,
     "metadata": {},
     "output_type": "execute_result"
    }
   ],
   "source": [
    "# Load the CSV file created in Part 1 into a Pandas DataFrame\n",
    "city_data_df = pd.read_csv(\"output_data/cities.csv\")\n",
    "\n",
    "# Display sample data\n",
    "city_data_df.head()"
   ]
  },
  {
   "cell_type": "code",
   "execution_count": 10,
   "metadata": {},
   "outputs": [
    {
     "data": {},
     "metadata": {},
     "output_type": "display_data"
    },
    {
     "data": {
      "application/vnd.holoviews_exec.v0+json": "",
      "text/html": [
       "<div id='p1102'>\n",
       "  <div id=\"a652cdc3-f410-4333-9757-d98efc91238d\" data-root-id=\"p1102\" style=\"display: contents;\"></div>\n",
       "</div>\n",
       "<script type=\"application/javascript\">(function(root) {\n",
       "  var docs_json = {\"aa8f4820-79a5-4934-addb-2431f44c6152\":{\"version\":\"3.3.2\",\"title\":\"Bokeh Application\",\"roots\":[{\"type\":\"object\",\"name\":\"Row\",\"id\":\"p1102\",\"attributes\":{\"name\":\"Row01749\",\"tags\":[\"embedded\"],\"stylesheets\":[\"\\n:host(.pn-loading.pn-arc):before, .pn-loading.pn-arc:before {\\n  background-image: url(\\\"data:image/svg+xml;base64,PHN2ZyB4bWxucz0iaHR0cDovL3d3dy53My5vcmcvMjAwMC9zdmciIHN0eWxlPSJtYXJnaW46IGF1dG87IGJhY2tncm91bmQ6IG5vbmU7IGRpc3BsYXk6IGJsb2NrOyBzaGFwZS1yZW5kZXJpbmc6IGF1dG87IiB2aWV3Qm94PSIwIDAgMTAwIDEwMCIgcHJlc2VydmVBc3BlY3RSYXRpbz0ieE1pZFlNaWQiPiAgPGNpcmNsZSBjeD0iNTAiIGN5PSI1MCIgZmlsbD0ibm9uZSIgc3Ryb2tlPSIjYzNjM2MzIiBzdHJva2Utd2lkdGg9IjEwIiByPSIzNSIgc3Ryb2tlLWRhc2hhcnJheT0iMTY0LjkzMzYxNDMxMzQ2NDE1IDU2Ljk3Nzg3MTQzNzgyMTM4Ij4gICAgPGFuaW1hdGVUcmFuc2Zvcm0gYXR0cmlidXRlTmFtZT0idHJhbnNmb3JtIiB0eXBlPSJyb3RhdGUiIHJlcGVhdENvdW50PSJpbmRlZmluaXRlIiBkdXI9IjFzIiB2YWx1ZXM9IjAgNTAgNTA7MzYwIDUwIDUwIiBrZXlUaW1lcz0iMDsxIj48L2FuaW1hdGVUcmFuc2Zvcm0+ICA8L2NpcmNsZT48L3N2Zz4=\\\");\\n  background-size: auto calc(min(50%, 400px));\\n}\",{\"type\":\"object\",\"name\":\"ImportedStyleSheet\",\"id\":\"p1105\",\"attributes\":{\"url\":\"https://cdn.holoviz.org/panel/1.3.4/dist/css/loading.css\"}},{\"type\":\"object\",\"name\":\"ImportedStyleSheet\",\"id\":\"p1188\",\"attributes\":{\"url\":\"https://cdn.holoviz.org/panel/1.3.4/dist/css/listpanel.css\"}},{\"type\":\"object\",\"name\":\"ImportedStyleSheet\",\"id\":\"p1103\",\"attributes\":{\"url\":\"https://cdn.holoviz.org/panel/1.3.4/dist/bundled/theme/default.css\"}},{\"type\":\"object\",\"name\":\"ImportedStyleSheet\",\"id\":\"p1104\",\"attributes\":{\"url\":\"https://cdn.holoviz.org/panel/1.3.4/dist/bundled/theme/native.css\"}}],\"margin\":0,\"sizing_mode\":\"stretch_width\",\"align\":\"start\",\"children\":[{\"type\":\"object\",\"name\":\"Spacer\",\"id\":\"p1106\",\"attributes\":{\"name\":\"HSpacer01759\",\"stylesheets\":[\"\\n:host(.pn-loading.pn-arc):before, .pn-loading.pn-arc:before {\\n  background-image: url(\\\"data:image/svg+xml;base64,PHN2ZyB4bWxucz0iaHR0cDovL3d3dy53My5vcmcvMjAwMC9zdmciIHN0eWxlPSJtYXJnaW46IGF1dG87IGJhY2tncm91bmQ6IG5vbmU7IGRpc3BsYXk6IGJsb2NrOyBzaGFwZS1yZW5kZXJpbmc6IGF1dG87IiB2aWV3Qm94PSIwIDAgMTAwIDEwMCIgcHJlc2VydmVBc3BlY3RSYXRpbz0ieE1pZFlNaWQiPiAgPGNpcmNsZSBjeD0iNTAiIGN5PSI1MCIgZmlsbD0ibm9uZSIgc3Ryb2tlPSIjYzNjM2MzIiBzdHJva2Utd2lkdGg9IjEwIiByPSIzNSIgc3Ryb2tlLWRhc2hhcnJheT0iMTY0LjkzMzYxNDMxMzQ2NDE1IDU2Ljk3Nzg3MTQzNzgyMTM4Ij4gICAgPGFuaW1hdGVUcmFuc2Zvcm0gYXR0cmlidXRlTmFtZT0idHJhbnNmb3JtIiB0eXBlPSJyb3RhdGUiIHJlcGVhdENvdW50PSJpbmRlZmluaXRlIiBkdXI9IjFzIiB2YWx1ZXM9IjAgNTAgNTA7MzYwIDUwIDUwIiBrZXlUaW1lcz0iMDsxIj48L2FuaW1hdGVUcmFuc2Zvcm0+ICA8L2NpcmNsZT48L3N2Zz4=\\\");\\n  background-size: auto calc(min(50%, 400px));\\n}\",{\"id\":\"p1105\"},{\"id\":\"p1103\"},{\"id\":\"p1104\"}],\"margin\":0,\"sizing_mode\":\"stretch_width\",\"align\":\"start\"}},{\"type\":\"object\",\"name\":\"Figure\",\"id\":\"p1123\",\"attributes\":{\"width\":null,\"height\":null,\"margin\":[5,10],\"sizing_mode\":\"fixed\",\"align\":\"start\",\"x_range\":{\"type\":\"object\",\"name\":\"Range1d\",\"id\":\"p1113\",\"attributes\":{\"tags\":[[[\"Lng\",\"Lng\",null]]],\"start\":-22117778.67831149,\"end\":22220593.360008154,\"reset_start\":-22117778.67831149,\"reset_end\":22220593.360008154,\"min_interval\":5}},\"y_range\":{\"type\":\"object\",\"name\":\"Range1d\",\"id\":\"p1114\",\"attributes\":{\"tags\":[[[\"Lat\",\"Lat\",null]]],\"start\":-10273919.742377155,\"end\":17437562.781572625,\"reset_start\":-10273919.742377155,\"reset_end\":17437562.781572625,\"min_interval\":5}},\"x_scale\":{\"type\":\"object\",\"name\":\"LinearScale\",\"id\":\"p1133\"},\"y_scale\":{\"type\":\"object\",\"name\":\"LinearScale\",\"id\":\"p1134\"},\"title\":{\"type\":\"object\",\"name\":\"Title\",\"id\":\"p1126\",\"attributes\":{\"text\":\"Map of Cities with Humidity\",\"text_color\":\"black\",\"text_font_size\":\"12pt\"}},\"renderers\":[{\"type\":\"object\",\"name\":\"TileRenderer\",\"id\":\"p1163\",\"attributes\":{\"level\":\"glyph\",\"tile_source\":{\"type\":\"object\",\"name\":\"WMTSTileSource\",\"id\":\"p1159\",\"attributes\":{\"url\":\"https://c.tile.openstreetmap.org/{Z}/{X}/{Y}.png\",\"attribution\":\"&copy; <a href=\\\"https://www.openstreetmap.org/copyright\\\">OpenStreetMap</a> contributors\"}}}},{\"type\":\"object\",\"name\":\"GlyphRenderer\",\"id\":\"p1177\",\"attributes\":{\"data_source\":{\"type\":\"object\",\"name\":\"ColumnDataSource\",\"id\":\"p1166\",\"attributes\":{\"selected\":{\"type\":\"object\",\"name\":\"Selection\",\"id\":\"p1167\",\"attributes\":{\"indices\":[],\"line_indices\":[]}},\"selection_policy\":{\"type\":\"object\",\"name\":\"UnionRenderers\",\"id\":\"p1168\"},\"data\":{\"type\":\"map\",\"entries\":[[\"Lng\",{\"type\":\"ndarray\",\"array\":{\"type\":\"bytes\",\"data\":\"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\"},\"shape\":[560],\"dtype\":\"float64\",\"order\":\"little\"}],[\"Lat\",{\"type\":\"ndarray\",\"array\":{\"type\":\"bytes\",\"data\":\"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\"},\"shape\":[560],\"dtype\":\"float64\",\"order\":\"little\"}],[\"Humidity\",{\"type\":\"ndarray\",\"array\":{\"type\":\"bytes\",\"data\":\"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\"},\"shape\":[560],\"dtype\":\"int32\",\"order\":\"little\"}],[\"City\",{\"type\":\"ndarray\",\"array\":[\"avarua\",\"edinburgh of the seven seas\",\"ushuaia\",\"grytviken\",\"kimbe\",\"minas de marcona\",\"bethel\",\"iqaluit\",\"labytnangi\",\"neiafu\",\"puerto natales\",\"punta arenas\",\"dar chioukh\",\"waitangi\",\"hamilton\",\"puerto ayora\",\"hermanus\",\"pandan\",\"isafjordur\",\"flying fish cove\",\"pierre\",\"lebu\",\"pisco\",\"ardakan\",\"west island\",\"remire-montjoly\",\"kralendijk\",\"adamstown\",\"hithadhoo\",\"bamboo flat\",\"port mathurin\",\"san clemente del tuyu\",\"tipasa\",\"mugia\",\"vennesla\",\"ilulissat\",\"ribeira grande\",\"port-aux-francais\",\"chonchi\",\"abashiri\",\"fale old settlement\",\"margaret river\",\"baley\",\"odda\",\"bredasdorp\",\"revda\",\"greymouth\",\"bilibino\",\"vostochnyy\",\"riohacha\",\"peterhead\",\"codrington\",\"canutama\",\"longyearbyen\",\"jesup\",\"ust-nera\",\"portland\",\"badger\",\"dolores\",\"sarmiento\",\"priozersk\",\"fort bragg\",\"metlili chaamba\",\"zhigalovo\",\"petropavlovsk-kamchatsky\",\"santarem\",\"kabanjahe\",\"holualoa\",\"yellowknife\",\"georgetown\",\"thompson\",\"chibougamau\",\"georgievka\",\"stara zagora\",\"luderitz\",\"port elizabeth\",\"kargil\",\"nabire\",\"tura\",\"college\",\"mount gambier\",\"sagaing\",\"solnechnyy\",\"chetwayi\",\"tazacorte\",\"chos malal\",\"albany\",\"geraldton\",\"weno\",\"coquimbo\",\"pinheiro machado\",\"guerrero negro\",\"colonia\",\"uturoa\",\"misantla\",\"cannonvale\",\"deqen\",\"namtsy\",\"zhangye\",\"mata-utu\",\"cassilandia\",\"kenai\",\"el playon\",\"laguna\",\"blackmans bay\",\"tarko-sale\",\"plastun\",\"katsuura\",\"emerald\",\"iskateley\",\"stanley\",\"utrik\",\"peace river\",\"anzio\",\"taltal\",\"camacupa\",\"massa marittima\",\"aral\",\"aasiaat\",\"skhirate\",\"st. john's\",\"ghat\",\"tanjung pandan\",\"rahatgarh\",\"qaqortoq\",\"invercargill\",\"new norfolk\",\"hawaiian paradise park\",\"kasongo-lunda\",\"udachny\",\"happy valley-goose bay\",\"nova sintra\",\"pacific grove\",\"qui nhon\",\"papatowai\",\"ambam\",\"i-n-salah\",\"saldanha\",\"lander\",\"portage\",\"melekeok village\",\"wailua homesteads\",\"pankrushikha\",\"ljungsbro\",\"magadan\",\"blackwater\",\"afaahiti\",\"grand falls-windsor\",\"hirara\",\"vodice\",\"kingisepp\",\"estevan\",\"wynyard\",\"manacapuru\",\"kavaratti\",\"medina\",\"arauca\",\"quellon\",\"almenara\",\"marka\",\"nasir\",\"bangassou\",\"vrangel'\",\"hualien city\",\"kapuskasing\",\"nadi\",\"queimadas\",\"dudinka\",\"cabo san lucas\",\"wukari\",\"haiku-pauwela\",\"nemuro\",\"aromashevo\",\"yelets\",\"kingston\",\"walvis bay\",\"port lincoln\",\"lazaro cardenas\",\"floro\",\"east london\",\"fort valley\",\"kuanda\",\"ndele\",\"klyuchi\",\"wattegama\",\"blackfoot\",\"olonkinbyen\",\"bestobe\",\"zahedan\",\"chikwawa\",\"caleta de carquin\",\"saint-francois\",\"schwanewede\",\"glace bay\",\"salekhard\",\"muan\",\"mili\",\"daru\",\"aykhal\",\"qurayyat\",\"isangel\",\"hovd\",\"polyarnyy\",\"saint-pierre\",\"rongelap\",\"tolanaro\",\"zhezqazghan\",\"aldinga beach\",\"kapa'a\",\"arraial do cabo\",\"yuzhno-kurilsk\",\"gadzhiyevo\",\"la gi\",\"wanning\",\"iwanai\",\"mhamid\",\"wronki\",\"belyy yar\",\"ulsteinvik\",\"bereznik\",\"bykovo\",\"susuman\",\"sydney mines\",\"maputo\",\"al ain city\",\"morehead city\",\"alesund\",\"carnarvon\",\"villa dolores\",\"fayroz koh\",\"palmer\",\"enewetak\",\"badiyah\",\"bacon\",\"vidyayevo\",\"kone\",\"ketchikan\",\"kidal\",\"westport\",\"lethem\",\"erdenet\",\"bonthe\",\"huanggang\",\"selebi-phikwe\",\"viedma\",\"whitehorse\",\"keflavik\",\"fisterra\",\"namibe\",\"thinadhoo\",\"paradip garh\",\"clovis\",\"halifax\",\"harper\",\"brookings\",\"changji\",\"castillos\",\"port isabel\",\"nuuk\",\"howrah\",\"promyshlennaya\",\"pokrovsk\",\"praia da vitoria\",\"martinsicuro\",\"kayangel\",\"prainha\",\"papao\",\"chipinge\",\"pandharpur\",\"saipan\",\"kulhudhuffushi\",\"olinda\",\"malvan\",\"aberdeen\",\"tiksi\",\"mizhhirya\",\"laoang\",\"slave lake\",\"boyolangu\",\"la passe\",\"valdez\",\"atafu village\",\"lago da pedra\",\"nouadhibou\",\"hargeysa\",\"eijsden\",\"cidade velha\",\"cascais\",\"island harbour\",\"cuajinicuilapa\",\"tazovsky\",\"garachico\",\"colchani\",\"vilyuysk\",\"trujillo\",\"oranjemund\",\"ratnagiri\",\"tual\",\"tarawa\",\"kodiak\",\"totness\",\"dubbo\",\"stockerau\",\"touros\",\"ptolemaida\",\"pangody\",\"qeshm\",\"shenjiamen\",\"roata de jos\",\"khandyga\",\"tianchang\",\"mejit\",\"atherton\",\"nar'yan-mar\",\"bereket\",\"bintulu\",\"zhuanghe\",\"lihue\",\"puerto santa\",\"aragarcas\",\"midvagur\",\"mariental\",\"itaituba\",\"barah\",\"gua musang\",\"sos'va\",\"broome\",\"selfoss\",\"timmins\",\"ha tinh\",\"hadithah\",\"paphos\",\"murang'a\",\"hadibu\",\"severo-yeniseyskiy\",\"muang khong\",\"guiuan\",\"astravyets\",\"aitape\",\"fortaleza\",\"sungai raya\",\"contai\",\"vanimo\",\"jamestown\",\"wau\",\"shache\",\"mawlamyinegyunn\",\"katagum\",\"lorengau\",\"talnakh\",\"swift current\",\"saint-philippe\",\"niamey\",\"batac city\",\"kalaoa\",\"novokubansk\",\"cheat lake\",\"beloyarskiy\",\"chivhu\",\"sao joao da barra\",\"pimentel\",\"san andres\",\"nurlat\",\"korla\",\"fereydun kenar\",\"lysekil\",\"muravlenko\",\"tacna\",\"youssoufia\",\"wuwei\",\"ivdel'\",\"fulshear\",\"khovd\",\"lhokseumawe\",\"grenada\",\"mahenge\",\"taulaga\",\"porto novo\",\"teuva\",\"springbok\",\"manokwari\",\"as suwayq\",\"tsiombe\",\"vila franca do campo\",\"koungheul\",\"rio grande\",\"fort st. john\",\"vorgashor\",\"puerto baquerizo moreno\",\"muynoq\",\"sterling\",\"yazd\",\"taroa\",\"san patricio\",\"vilyuchinsk\",\"buenos aires\",\"berezovyy\",\"arteche\",\"mora\",\"verkhniye tatyshly\",\"smithers\",\"kristinestad\",\"kindu\",\"derzhavinsk\",\"hammerfest\",\"puerto varas\",\"chatham\",\"palikir - national government center\",\"horta\",\"brecon\",\"koungou\",\"point pedro\",\"valparaiso\",\"santo antonio\",\"teknaf\",\"bikenibeu village\",\"ouadda\",\"amga\",\"sapele\",\"san luis de la loma\",\"sorong\",\"balsas\",\"al khawr\",\"alekseyevka\",\"las navas del marques\",\"kudahuvadhoo\",\"rampur\",\"imbituba\",\"guingamp\",\"labrador city\",\"tangalle\",\"dryden\",\"fuman\",\"alice springs\",\"juneau\",\"jabal os saraj\",\"bandarbeyla\",\"palmas\",\"soc trang\",\"miracema do tocantins\",\"constantia\",\"mahibadhoo\",\"male\",\"ikalamavony\",\"wainwright\",\"shingu\",\"aleppo\",\"boguchany\",\"nantucket\",\"anadyr\",\"shuangjiang\",\"sitka\",\"scalea\",\"port alfred\",\"cide\",\"guasdualito\",\"yuxia\",\"benguela\",\"vadso\",\"puerto armuelles\",\"berdsk\",\"port blair\",\"beau vallon\",\"kill devil hills\",\"la ronge\",\"cadale\",\"fort mcmurray\",\"fuglafjordur\",\"callao\",\"sasvad\",\"xinyuan\",\"agaro\",\"sierra grande\",\"ulladulla\",\"aioun\",\"stornoway\",\"sanchor\",\"mogadishu\",\"ingeniero jacobacci\",\"ulanhot\",\"richards bay\",\"hobyo\",\"sengkang\",\"nishinoomote\",\"klaksvik\",\"new river\",\"san juan de miraflores\",\"praia\",\"malango\",\"kuala terengganu\",\"kijang\",\"ferrara\",\"bayville\",\"bodo\",\"kismayo\",\"cabedelo\",\"san miguel panixtlahuaca\",\"pokaran\",\"cill airne\",\"guiratinga\",\"torghay\",\"queenstown\",\"fallsburg\",\"usinsk\",\"inarajan village\",\"vangaindrano\",\"north canton\",\"onega\",\"kargasok\",\"santa elena de uairen\",\"urangan\",\"basco\",\"maglavit\",\"tofol\",\"lensk\",\"ciudad rodrigo\",\"antonio enes\",\"george town\",\"isiro\",\"alta\",\"shimanovsk\",\"mandiana\",\"gornozavodsk\",\"maxixe\",\"necochea\",\"kish\",\"puerto aysen\",\"bishkek\",\"tshabong\",\"crane\",\"zouerate\",\"mirny\",\"vernon\",\"lagunas\",\"nuriootpa\",\"lucapa\",\"helong\",\"tamanrasset\",\"luang namtha\",\"migne\",\"djamaa\",\"cidreira\",\"amasra\",\"nikolayevsk-on-amure\",\"tidjikja\",\"aberglasslyn\",\"kununurra\",\"iwon-up\",\"itamaraju\",\"shitanjing\",\"myeik\",\"ghadamis\",\"kerema\",\"conthey\",\"alaghsas\",\"rundu\",\"vylkove\",\"bargaal\",\"devils lake\",\"pemangkat\"],\"shape\":[560],\"dtype\":\"object\",\"order\":\"little\"}],[\"color\",{\"type\":\"ndarray\",\"array\":{\"type\":\"bytes\",\"data\":\"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\"},\"shape\":[560],\"dtype\":\"int32\",\"order\":\"little\"}],[\"size\",{\"type\":\"ndarray\",\"array\":{\"type\":\"bytes\",\"data\":\"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\"},\"shape\":[560],\"dtype\":\"float64\",\"order\":\"little\"}]]}}},\"view\":{\"type\":\"object\",\"name\":\"CDSView\",\"id\":\"p1178\",\"attributes\":{\"filter\":{\"type\":\"object\",\"name\":\"AllIndices\",\"id\":\"p1179\"}}},\"glyph\":{\"type\":\"object\",\"name\":\"Scatter\",\"id\":\"p1172\",\"attributes\":{\"tags\":[\"apply_ranges\"],\"x\":{\"type\":\"field\",\"field\":\"Lng\"},\"y\":{\"type\":\"field\",\"field\":\"Lat\"},\"size\":{\"type\":\"field\",\"field\":\"size\"},\"line_color\":{\"type\":\"field\",\"field\":\"color\",\"transform\":{\"type\":\"object\",\"name\":\"LinearColorMapper\",\"id\":\"p1165\",\"attributes\":{\"palette\":[\"#b3fef5\",\"#b0fef5\",\"#adfdf5\",\"#a9fcf5\",\"#a6fbf6\",\"#a3faf6\",\"#a0faf6\",\"#9df9f6\",\"#9af8f6\",\"#97f7f6\",\"#93f7f6\",\"#90f6f6\",\"#8df5f6\",\"#8af4f7\",\"#87f3f7\",\"#83f2f7\",\"#80f2f7\",\"#7df1f7\",\"#79f0f7\",\"#76eff7\",\"#73eef7\",\"#6fedf8\",\"#6cecf8\",\"#68ecf8\",\"#65ebf8\",\"#61eaf8\",\"#5ee9f8\",\"#5ae8f8\",\"#57e7f8\",\"#53e6f8\",\"#50e5f9\",\"#4ce4f9\",\"#49e3f9\",\"#45e2f9\",\"#42e1f9\",\"#3ee0f9\",\"#3bdff9\",\"#38def9\",\"#35ddf9\",\"#32dcf9\",\"#30dbfa\",\"#2ed9fa\",\"#2dd8fa\",\"#2cd7fa\",\"#2bd6fa\",\"#2bd5fa\",\"#2ad3fa\",\"#2ad2fa\",\"#29d1fa\",\"#29d0fb\",\"#29cffb\",\"#28cdfb\",\"#28ccfb\",\"#28cbfb\",\"#28cafb\",\"#28c8fb\",\"#28c7fb\",\"#29c6fb\",\"#29c5fb\",\"#29c4fb\",\"#29c2fb\",\"#2ac1fb\",\"#2ac0fb\",\"#2bbffb\",\"#2bbdfc\",\"#2cbcfc\",\"#2dbbfc\",\"#2db9fc\",\"#2eb8fc\",\"#2fb7fc\",\"#2fb6fc\",\"#30b4fc\",\"#31b3fc\",\"#32b2fc\",\"#32b0fc\",\"#33affc\",\"#33aefc\",\"#34adfc\",\"#34abfc\",\"#34aafc\",\"#35a9fc\",\"#35a8fc\",\"#35a6fc\",\"#35a5fc\",\"#35a4fc\",\"#35a3fc\",\"#35a1fc\",\"#35a0fc\",\"#359ffc\",\"#359dfc\",\"#359cfc\",\"#359bfc\",\"#349afd\",\"#3498fd\",\"#3497fd\",\"#3396fd\",\"#3395fd\",\"#3293fd\",\"#3292fd\",\"#3191fd\",\"#3090fd\",\"#308ffd\",\"#2f8dfd\",\"#2f8cfd\",\"#2e8bfd\",\"#2e8afd\",\"#2d88fd\",\"#2d87fd\",\"#2c86fd\",\"#2c84fd\",\"#2c83fd\",\"#2c82fd\",\"#2b81fd\",\"#2b7ffd\",\"#2b7efd\",\"#2b7dfd\",\"#2b7bfd\",\"#2b7afd\",\"#2b79fd\",\"#2b77fd\",\"#2b76fd\",\"#2b75fd\",\"#2b73fd\",\"#2c72fd\",\"#2c71fd\",\"#2c6ffd\",\"#2c6efd\",\"#2d6cfd\",\"#2d6bfd\",\"#2d6afc\",\"#2e68fc\",\"#2e67fc\",\"#2e65fc\",\"#2e64fc\",\"#2f62fc\",\"#2f61fc\",\"#2f5ffc\",\"#2f5efc\",\"#2f5dfc\",\"#2f5bfc\",\"#2f5afc\",\"#2f58fb\",\"#2f57fb\",\"#2f55fb\",\"#2f53fb\",\"#2f52fb\",\"#2f50fb\",\"#2f4ffb\",\"#2f4dfb\",\"#2e4cfb\",\"#2e4afb\",\"#2e48fb\",\"#2e47fa\",\"#2d45fa\",\"#2d43fa\",\"#2d42fa\",\"#2d40fa\",\"#2c3efa\",\"#2c3dfa\",\"#2b3bf9\",\"#2b39f9\",\"#2a37f9\",\"#2a36f8\",\"#2934f8\",\"#2832f7\",\"#2831f7\",\"#272ff6\",\"#262ef5\",\"#252cf5\",\"#252af4\",\"#2429f3\",\"#2327f2\",\"#2226f1\",\"#2124f0\",\"#2023ef\",\"#1f22ee\",\"#1e20ed\",\"#1d1feb\",\"#1c1eea\",\"#1b1ce9\",\"#1a1be7\",\"#181ae6\",\"#1719e5\",\"#1618e3\",\"#1417e1\",\"#1316e0\",\"#1215de\",\"#1014dc\",\"#0f13db\",\"#0e12d9\",\"#0d11d7\",\"#0c10d5\",\"#0b0fd3\",\"#0a0ed1\",\"#090dd0\",\"#080dce\",\"#080ccc\",\"#070bca\",\"#070ac8\",\"#0709c6\",\"#0708c4\",\"#0707c2\",\"#0707bf\",\"#0806bd\",\"#0806bb\",\"#0905b9\",\"#0904b7\",\"#0a04b5\",\"#0a04b2\",\"#0b03b0\",\"#0c03ae\",\"#0d02ab\",\"#0e02a9\",\"#0e02a7\",\"#0f02a4\",\"#0f01a2\",\"#1001a0\",\"#10019d\",\"#10019b\",\"#100199\",\"#100197\",\"#100194\",\"#0f0192\",\"#0f0190\",\"#0f018e\",\"#0e018b\",\"#0e0189\",\"#0d0187\",\"#0d0185\",\"#0c0183\",\"#0b0181\",\"#0b017e\",\"#0a017c\",\"#09017a\",\"#090178\",\"#080276\",\"#070274\",\"#060272\",\"#060270\",\"#05026e\",\"#04026c\",\"#030269\",\"#030267\",\"#020265\",\"#010263\",\"#010261\",\"#00025f\",\"#00025d\",\"#00025b\",\"#000259\",\"#000257\",\"#000255\",\"#000154\",\"#000152\",\"#000150\",\"#00004e\"],\"low\":9,\"high\":100}}},\"line_alpha\":{\"type\":\"value\",\"value\":0.5},\"fill_color\":{\"type\":\"field\",\"field\":\"color\",\"transform\":{\"id\":\"p1165\"}},\"fill_alpha\":{\"type\":\"value\",\"value\":0.5},\"hatch_color\":{\"type\":\"field\",\"field\":\"color\",\"transform\":{\"id\":\"p1165\"}},\"hatch_alpha\":{\"type\":\"value\",\"value\":0.5}}},\"selection_glyph\":{\"type\":\"object\",\"name\":\"Scatter\",\"id\":\"p1174\",\"attributes\":{\"tags\":[\"apply_ranges\"],\"x\":{\"type\":\"field\",\"field\":\"Lng\"},\"y\":{\"type\":\"field\",\"field\":\"Lat\"},\"size\":{\"type\":\"field\",\"field\":\"size\"},\"line_color\":{\"type\":\"field\",\"field\":\"color\",\"transform\":{\"id\":\"p1165\"}},\"line_alpha\":{\"type\":\"value\",\"value\":0.5},\"fill_color\":{\"type\":\"field\",\"field\":\"color\",\"transform\":{\"id\":\"p1165\"}},\"fill_alpha\":{\"type\":\"value\",\"value\":0.5},\"hatch_color\":{\"type\":\"field\",\"field\":\"color\",\"transform\":{\"id\":\"p1165\"}},\"hatch_alpha\":{\"type\":\"value\",\"value\":0.5}}},\"nonselection_glyph\":{\"type\":\"object\",\"name\":\"Scatter\",\"id\":\"p1173\",\"attributes\":{\"tags\":[\"apply_ranges\"],\"x\":{\"type\":\"field\",\"field\":\"Lng\"},\"y\":{\"type\":\"field\",\"field\":\"Lat\"},\"size\":{\"type\":\"field\",\"field\":\"size\"},\"line_color\":{\"type\":\"field\",\"field\":\"color\",\"transform\":{\"id\":\"p1165\"}},\"line_alpha\":{\"type\":\"value\",\"value\":0.5},\"fill_color\":{\"type\":\"field\",\"field\":\"color\",\"transform\":{\"id\":\"p1165\"}},\"fill_alpha\":{\"type\":\"value\",\"value\":0.5},\"hatch_color\":{\"type\":\"field\",\"field\":\"color\",\"transform\":{\"id\":\"p1165\"}},\"hatch_alpha\":{\"type\":\"value\",\"value\":0.1}}},\"hover_glyph\":{\"type\":\"object\",\"name\":\"Scatter\",\"id\":\"p1175\",\"attributes\":{\"tags\":[\"apply_ranges\"],\"x\":{\"type\":\"field\",\"field\":\"Lng\"},\"y\":{\"type\":\"field\",\"field\":\"Lat\"},\"size\":{\"type\":\"field\",\"field\":\"size\"},\"line_color\":{\"type\":\"field\",\"field\":\"color\",\"transform\":{\"id\":\"p1165\"}},\"line_alpha\":{\"type\":\"value\",\"value\":0.5},\"fill_color\":{\"type\":\"field\",\"field\":\"color\",\"transform\":{\"id\":\"p1165\"}},\"fill_alpha\":{\"type\":\"value\",\"value\":0.5},\"hatch_color\":{\"type\":\"field\",\"field\":\"color\",\"transform\":{\"id\":\"p1165\"}},\"hatch_alpha\":{\"type\":\"value\",\"value\":0.5}}},\"muted_glyph\":{\"type\":\"object\",\"name\":\"Scatter\",\"id\":\"p1176\",\"attributes\":{\"tags\":[\"apply_ranges\"],\"x\":{\"type\":\"field\",\"field\":\"Lng\"},\"y\":{\"type\":\"field\",\"field\":\"Lat\"},\"size\":{\"type\":\"field\",\"field\":\"size\"},\"line_color\":{\"type\":\"field\",\"field\":\"color\",\"transform\":{\"id\":\"p1165\"}},\"line_alpha\":{\"type\":\"value\",\"value\":0.2},\"fill_color\":{\"type\":\"field\",\"field\":\"color\",\"transform\":{\"id\":\"p1165\"}},\"fill_alpha\":{\"type\":\"value\",\"value\":0.2},\"hatch_color\":{\"type\":\"field\",\"field\":\"color\",\"transform\":{\"id\":\"p1165\"}},\"hatch_alpha\":{\"type\":\"value\",\"value\":0.2}}}}}],\"toolbar\":{\"type\":\"object\",\"name\":\"Toolbar\",\"id\":\"p1132\",\"attributes\":{\"tools\":[{\"type\":\"object\",\"name\":\"HoverTool\",\"id\":\"p1122\",\"attributes\":{\"tags\":[\"hv_created\"],\"renderers\":[{\"id\":\"p1177\"}],\"tooltips\":[[\"Lng\",\"$x{custom}\"],[\"Lat\",\"$y{custom}\"],[\"Humidity\",\"@{Humidity}\"],[\"City\",\"@{City}\"]],\"formatters\":{\"type\":\"map\",\"entries\":[[\"$x\",{\"type\":\"object\",\"name\":\"CustomJSHover\",\"id\":\"p1183\",\"attributes\":{\"code\":\"\\n        const projections = Bokeh.require(\\\"core/util/projections\\\");\\n        const {snap_x, snap_y} = special_vars\\n        const coords = projections.wgs84_mercator.invert(snap_x, snap_y)\\n        return \\\"\\\" + (coords[0]).toFixed(4)\\n    \"}}],[\"$y\",{\"type\":\"object\",\"name\":\"CustomJSHover\",\"id\":\"p1184\",\"attributes\":{\"code\":\"\\n        const projections = Bokeh.require(\\\"core/util/projections\\\");\\n        const {snap_x, snap_y} = special_vars\\n        const coords = projections.wgs84_mercator.invert(snap_x, snap_y)\\n        return \\\"\\\" + (coords[1]).toFixed(4)\\n    \"}}]]}}},{\"type\":\"object\",\"name\":\"SaveTool\",\"id\":\"p1145\"},{\"type\":\"object\",\"name\":\"PanTool\",\"id\":\"p1146\"},{\"type\":\"object\",\"name\":\"WheelZoomTool\",\"id\":\"p1147\",\"attributes\":{\"renderers\":\"auto\",\"zoom_on_axis\":false}},{\"type\":\"object\",\"name\":\"BoxZoomTool\",\"id\":\"p1148\",\"attributes\":{\"overlay\":{\"type\":\"object\",\"name\":\"BoxAnnotation\",\"id\":\"p1149\",\"attributes\":{\"syncable\":false,\"level\":\"overlay\",\"visible\":false,\"left\":{\"type\":\"number\",\"value\":\"nan\"},\"right\":{\"type\":\"number\",\"value\":\"nan\"},\"top\":{\"type\":\"number\",\"value\":\"nan\"},\"bottom\":{\"type\":\"number\",\"value\":\"nan\"},\"left_units\":\"canvas\",\"right_units\":\"canvas\",\"top_units\":\"canvas\",\"bottom_units\":\"canvas\",\"line_color\":\"black\",\"line_alpha\":1.0,\"line_width\":2,\"line_dash\":[4,4],\"fill_color\":\"lightgrey\",\"fill_alpha\":0.5}},\"match_aspect\":true}},{\"type\":\"object\",\"name\":\"ResetTool\",\"id\":\"p1154\"}],\"active_drag\":{\"id\":\"p1146\"}}},\"left\":[{\"type\":\"object\",\"name\":\"LinearAxis\",\"id\":\"p1140\",\"attributes\":{\"ticker\":{\"type\":\"object\",\"name\":\"MercatorTicker\",\"id\":\"p1157\",\"attributes\":{\"mantissas\":[1,2,5],\"dimension\":\"lat\"}},\"formatter\":{\"type\":\"object\",\"name\":\"MercatorTickFormatter\",\"id\":\"p1158\",\"attributes\":{\"dimension\":\"lat\"}},\"axis_label\":\"Latitude\",\"major_label_policy\":{\"type\":\"object\",\"name\":\"AllLabels\",\"id\":\"p1143\"}}}],\"right\":[{\"type\":\"object\",\"name\":\"ColorBar\",\"id\":\"p1181\",\"attributes\":{\"location\":[0,0],\"ticker\":{\"type\":\"object\",\"name\":\"BasicTicker\",\"id\":\"p1180\",\"attributes\":{\"mantissas\":[1,2,5]}},\"major_label_policy\":{\"type\":\"object\",\"name\":\"NoOverlap\",\"id\":\"p1182\"},\"label_standoff\":8,\"major_tick_line_color\":\"black\",\"bar_line_color\":\"black\",\"color_mapper\":{\"id\":\"p1165\"}}}],\"below\":[{\"type\":\"object\",\"name\":\"LinearAxis\",\"id\":\"p1135\",\"attributes\":{\"ticker\":{\"type\":\"object\",\"name\":\"MercatorTicker\",\"id\":\"p1155\",\"attributes\":{\"mantissas\":[1,2,5],\"dimension\":\"lon\"}},\"formatter\":{\"type\":\"object\",\"name\":\"MercatorTickFormatter\",\"id\":\"p1156\",\"attributes\":{\"dimension\":\"lon\"}},\"axis_label\":\"Longitude\",\"major_label_policy\":{\"type\":\"object\",\"name\":\"AllLabels\",\"id\":\"p1138\"}}}],\"center\":[{\"type\":\"object\",\"name\":\"Grid\",\"id\":\"p1139\",\"attributes\":{\"axis\":{\"id\":\"p1135\"},\"grid_line_color\":null}},{\"type\":\"object\",\"name\":\"Grid\",\"id\":\"p1144\",\"attributes\":{\"dimension\":1,\"axis\":{\"id\":\"p1140\"},\"grid_line_color\":null}}],\"frame_width\":800,\"frame_height\":500,\"min_border_top\":10,\"min_border_bottom\":10,\"min_border_left\":10,\"min_border_right\":10,\"output_backend\":\"webgl\",\"match_aspect\":true}},{\"type\":\"object\",\"name\":\"Spacer\",\"id\":\"p1186\",\"attributes\":{\"name\":\"HSpacer01762\",\"stylesheets\":[\"\\n:host(.pn-loading.pn-arc):before, .pn-loading.pn-arc:before {\\n  background-image: url(\\\"data:image/svg+xml;base64,PHN2ZyB4bWxucz0iaHR0cDovL3d3dy53My5vcmcvMjAwMC9zdmciIHN0eWxlPSJtYXJnaW46IGF1dG87IGJhY2tncm91bmQ6IG5vbmU7IGRpc3BsYXk6IGJsb2NrOyBzaGFwZS1yZW5kZXJpbmc6IGF1dG87IiB2aWV3Qm94PSIwIDAgMTAwIDEwMCIgcHJlc2VydmVBc3BlY3RSYXRpbz0ieE1pZFlNaWQiPiAgPGNpcmNsZSBjeD0iNTAiIGN5PSI1MCIgZmlsbD0ibm9uZSIgc3Ryb2tlPSIjYzNjM2MzIiBzdHJva2Utd2lkdGg9IjEwIiByPSIzNSIgc3Ryb2tlLWRhc2hhcnJheT0iMTY0LjkzMzYxNDMxMzQ2NDE1IDU2Ljk3Nzg3MTQzNzgyMTM4Ij4gICAgPGFuaW1hdGVUcmFuc2Zvcm0gYXR0cmlidXRlTmFtZT0idHJhbnNmb3JtIiB0eXBlPSJyb3RhdGUiIHJlcGVhdENvdW50PSJpbmRlZmluaXRlIiBkdXI9IjFzIiB2YWx1ZXM9IjAgNTAgNTA7MzYwIDUwIDUwIiBrZXlUaW1lcz0iMDsxIj48L2FuaW1hdGVUcmFuc2Zvcm0+ICA8L2NpcmNsZT48L3N2Zz4=\\\");\\n  background-size: auto calc(min(50%, 400px));\\n}\",{\"id\":\"p1105\"},{\"id\":\"p1103\"},{\"id\":\"p1104\"}],\"margin\":0,\"sizing_mode\":\"stretch_width\",\"align\":\"start\"}}]}}],\"defs\":[{\"type\":\"model\",\"name\":\"ReactiveHTML1\"},{\"type\":\"model\",\"name\":\"FlexBox1\",\"properties\":[{\"name\":\"align_content\",\"kind\":\"Any\",\"default\":\"flex-start\"},{\"name\":\"align_items\",\"kind\":\"Any\",\"default\":\"flex-start\"},{\"name\":\"flex_direction\",\"kind\":\"Any\",\"default\":\"row\"},{\"name\":\"flex_wrap\",\"kind\":\"Any\",\"default\":\"wrap\"},{\"name\":\"justify_content\",\"kind\":\"Any\",\"default\":\"flex-start\"}]},{\"type\":\"model\",\"name\":\"FloatPanel1\",\"properties\":[{\"name\":\"config\",\"kind\":\"Any\",\"default\":{\"type\":\"map\"}},{\"name\":\"contained\",\"kind\":\"Any\",\"default\":true},{\"name\":\"position\",\"kind\":\"Any\",\"default\":\"right-top\"},{\"name\":\"offsetx\",\"kind\":\"Any\",\"default\":null},{\"name\":\"offsety\",\"kind\":\"Any\",\"default\":null},{\"name\":\"theme\",\"kind\":\"Any\",\"default\":\"primary\"},{\"name\":\"status\",\"kind\":\"Any\",\"default\":\"normalized\"}]},{\"type\":\"model\",\"name\":\"GridStack1\",\"properties\":[{\"name\":\"mode\",\"kind\":\"Any\",\"default\":\"warn\"},{\"name\":\"ncols\",\"kind\":\"Any\",\"default\":null},{\"name\":\"nrows\",\"kind\":\"Any\",\"default\":null},{\"name\":\"allow_resize\",\"kind\":\"Any\",\"default\":true},{\"name\":\"allow_drag\",\"kind\":\"Any\",\"default\":true},{\"name\":\"state\",\"kind\":\"Any\",\"default\":[]}]},{\"type\":\"model\",\"name\":\"drag1\",\"properties\":[{\"name\":\"slider_width\",\"kind\":\"Any\",\"default\":5},{\"name\":\"slider_color\",\"kind\":\"Any\",\"default\":\"black\"},{\"name\":\"value\",\"kind\":\"Any\",\"default\":50}]},{\"type\":\"model\",\"name\":\"click1\",\"properties\":[{\"name\":\"terminal_output\",\"kind\":\"Any\",\"default\":\"\"},{\"name\":\"debug_name\",\"kind\":\"Any\",\"default\":\"\"},{\"name\":\"clears\",\"kind\":\"Any\",\"default\":0}]},{\"type\":\"model\",\"name\":\"toggle_value1\",\"properties\":[{\"name\":\"active_icons\",\"kind\":\"Any\",\"default\":{\"type\":\"map\"}},{\"name\":\"options\",\"kind\":\"Any\",\"default\":{\"type\":\"map\",\"entries\":[[\"favorite\",\"heart\"]]}},{\"name\":\"value\",\"kind\":\"Any\",\"default\":[]},{\"name\":\"_reactions\",\"kind\":\"Any\",\"default\":[]},{\"name\":\"_base_url\",\"kind\":\"Any\",\"default\":\"https://tabler-icons.io/static/tabler-icons/icons/\"}]},{\"type\":\"model\",\"name\":\"copy_to_clipboard1\",\"properties\":[{\"name\":\"value\",\"kind\":\"Any\",\"default\":null},{\"name\":\"fill\",\"kind\":\"Any\",\"default\":\"none\"}]},{\"type\":\"model\",\"name\":\"FastWrapper1\",\"properties\":[{\"name\":\"object\",\"kind\":\"Any\",\"default\":null},{\"name\":\"style\",\"kind\":\"Any\",\"default\":null}]},{\"type\":\"model\",\"name\":\"NotificationAreaBase1\",\"properties\":[{\"name\":\"js_events\",\"kind\":\"Any\",\"default\":{\"type\":\"map\"}},{\"name\":\"position\",\"kind\":\"Any\",\"default\":\"bottom-right\"},{\"name\":\"_clear\",\"kind\":\"Any\",\"default\":0}]},{\"type\":\"model\",\"name\":\"NotificationArea1\",\"properties\":[{\"name\":\"js_events\",\"kind\":\"Any\",\"default\":{\"type\":\"map\"}},{\"name\":\"notifications\",\"kind\":\"Any\",\"default\":[]},{\"name\":\"position\",\"kind\":\"Any\",\"default\":\"bottom-right\"},{\"name\":\"_clear\",\"kind\":\"Any\",\"default\":0},{\"name\":\"types\",\"kind\":\"Any\",\"default\":[{\"type\":\"map\",\"entries\":[[\"type\",\"warning\"],[\"background\",\"#ffc107\"],[\"icon\",{\"type\":\"map\",\"entries\":[[\"className\",\"fas fa-exclamation-triangle\"],[\"tagName\",\"i\"],[\"color\",\"white\"]]}]]},{\"type\":\"map\",\"entries\":[[\"type\",\"info\"],[\"background\",\"#007bff\"],[\"icon\",{\"type\":\"map\",\"entries\":[[\"className\",\"fas fa-info-circle\"],[\"tagName\",\"i\"],[\"color\",\"white\"]]}]]}]}]},{\"type\":\"model\",\"name\":\"Notification\",\"properties\":[{\"name\":\"background\",\"kind\":\"Any\",\"default\":null},{\"name\":\"duration\",\"kind\":\"Any\",\"default\":3000},{\"name\":\"icon\",\"kind\":\"Any\",\"default\":null},{\"name\":\"message\",\"kind\":\"Any\",\"default\":\"\"},{\"name\":\"notification_type\",\"kind\":\"Any\",\"default\":null},{\"name\":\"_destroyed\",\"kind\":\"Any\",\"default\":false}]},{\"type\":\"model\",\"name\":\"TemplateActions1\",\"properties\":[{\"name\":\"open_modal\",\"kind\":\"Any\",\"default\":0},{\"name\":\"close_modal\",\"kind\":\"Any\",\"default\":0}]},{\"type\":\"model\",\"name\":\"BootstrapTemplateActions1\",\"properties\":[{\"name\":\"open_modal\",\"kind\":\"Any\",\"default\":0},{\"name\":\"close_modal\",\"kind\":\"Any\",\"default\":0}]},{\"type\":\"model\",\"name\":\"MaterialTemplateActions1\",\"properties\":[{\"name\":\"open_modal\",\"kind\":\"Any\",\"default\":0},{\"name\":\"close_modal\",\"kind\":\"Any\",\"default\":0}]}]}};\n",
       "  var render_items = [{\"docid\":\"aa8f4820-79a5-4934-addb-2431f44c6152\",\"roots\":{\"p1102\":\"a652cdc3-f410-4333-9757-d98efc91238d\"},\"root_ids\":[\"p1102\"]}];\n",
       "  var docs = Object.values(docs_json)\n",
       "  if (!docs) {\n",
       "    return\n",
       "  }\n",
       "  const py_version = docs[0].version.replace('rc', '-rc.').replace('.dev', '-dev.')\n",
       "  function embed_document(root) {\n",
       "    var Bokeh = get_bokeh(root)\n",
       "    Bokeh.embed.embed_items_notebook(docs_json, render_items);\n",
       "    for (const render_item of render_items) {\n",
       "      for (const root_id of render_item.root_ids) {\n",
       "\tconst id_el = document.getElementById(root_id)\n",
       "\tif (id_el.children.length && (id_el.children[0].className === 'bk-root')) {\n",
       "\t  const root_el = id_el.children[0]\n",
       "\t  root_el.id = root_el.id + '-rendered'\n",
       "\t}\n",
       "      }\n",
       "    }\n",
       "  }\n",
       "  function get_bokeh(root) {\n",
       "    if (root.Bokeh === undefined) {\n",
       "      return null\n",
       "    } else if (root.Bokeh.version !== py_version) {\n",
       "      if (root.Bokeh.versions === undefined || !root.Bokeh.versions.has(py_version)) {\n",
       "\treturn null\n",
       "      }\n",
       "      return root.Bokeh.versions.get(py_version);\n",
       "    } else if (root.Bokeh.version === py_version) {\n",
       "      return root.Bokeh\n",
       "    }\n",
       "    return null\n",
       "  }\n",
       "  function is_loaded(root) {\n",
       "    var Bokeh = get_bokeh(root)\n",
       "    return (Bokeh != null && Bokeh.Panel !== undefined)\n",
       "  }\n",
       "  if (is_loaded(root)) {\n",
       "    embed_document(root);\n",
       "  } else {\n",
       "    var attempts = 0;\n",
       "    var timer = setInterval(function(root) {\n",
       "      if (is_loaded(root)) {\n",
       "        clearInterval(timer);\n",
       "        embed_document(root);\n",
       "      } else if (document.readyState == \"complete\") {\n",
       "        attempts++;\n",
       "        if (attempts > 200) {\n",
       "          clearInterval(timer);\n",
       "\t  var Bokeh = get_bokeh(root)\n",
       "\t  if (Bokeh == null || Bokeh.Panel == null) {\n",
       "            console.warn(\"Panel: ERROR: Unable to run Panel code because Bokeh or Panel library is missing\");\n",
       "\t  } else {\n",
       "\t    console.warn(\"Panel: WARNING: Attempting to render but not all required libraries could be resolved.\")\n",
       "\t    embed_document(root)\n",
       "\t  }\n",
       "        }\n",
       "      }\n",
       "    }, 25, root)\n",
       "  }\n",
       "})(window);</script>"
      ],
      "text/plain": [
       ":Overlay\n",
       "   .Tiles.I  :Tiles   [x,y]\n",
       "   .Points.I :Points   [Lng,Lat]   (Humidity,City)"
      ]
     },
     "execution_count": 10,
     "metadata": {
      "application/vnd.holoviews_exec.v0+json": {
       "id": "p1102"
      }
     },
     "output_type": "execute_result"
    }
   ],
   "source": [
    "%%capture --no-display\n",
    "\n",
    "# Configure the map plot\n",
    "map_plot = city_data_df.hvplot.points(x='Lng', \n",
    "                                      y='Lat',\n",
    "                                      geo=True,\n",
    "                                      tiles='OSM',\n",
    "                                      frame_width = 800,\n",
    "                                      frame_height = 500,\n",
    "                                      size='Humidity',\n",
    "                                      title='Map of Cities with Humidity',\n",
    "                                      xlabel='Longitude', \n",
    "                                      ylabel='Latitude',\n",
    "                                      color='Humidity',\n",
    "                                      hover_cols=['City', 'Humidity'],\n",
    "                                      alpha=0.5)\n",
    "\n",
    "# Display the map\n",
    "map_plot"
   ]
  },
  {
   "cell_type": "markdown",
   "metadata": {},
   "source": [
    "### Step 2: Narrow down the `city_data_df` DataFrame to find your ideal weather condition"
   ]
  },
  {
   "cell_type": "code",
   "execution_count": 11,
   "metadata": {},
   "outputs": [
    {
     "data": {
      "text/html": [
       "<div>\n",
       "<style scoped>\n",
       "    .dataframe tbody tr th:only-of-type {\n",
       "        vertical-align: middle;\n",
       "    }\n",
       "\n",
       "    .dataframe tbody tr th {\n",
       "        vertical-align: top;\n",
       "    }\n",
       "\n",
       "    .dataframe thead th {\n",
       "        text-align: right;\n",
       "    }\n",
       "</style>\n",
       "<table border=\"1\" class=\"dataframe\">\n",
       "  <thead>\n",
       "    <tr style=\"text-align: right;\">\n",
       "      <th></th>\n",
       "      <th>City_ID</th>\n",
       "      <th>City</th>\n",
       "      <th>Lat</th>\n",
       "      <th>Lng</th>\n",
       "      <th>Max Temp</th>\n",
       "      <th>Humidity</th>\n",
       "      <th>Cloudiness</th>\n",
       "      <th>Wind Speed</th>\n",
       "      <th>Country</th>\n",
       "      <th>Date</th>\n",
       "    </tr>\n",
       "  </thead>\n",
       "  <tbody>\n",
       "  </tbody>\n",
       "</table>\n",
       "</div>"
      ],
      "text/plain": [
       "Empty DataFrame\n",
       "Columns: [City_ID, City, Lat, Lng, Max Temp, Humidity, Cloudiness, Wind Speed, Country, Date]\n",
       "Index: []"
      ]
     },
     "execution_count": 11,
     "metadata": {},
     "output_type": "execute_result"
    }
   ],
   "source": [
    "# Narrow down cities that fit criteria and drop any results with null values\n",
    "ideal_conditions = (city_data_df[\"Max Temp\"] > 70) & (city_data_df[\"Max Temp\"] < 90) & \\\n",
    "                   (city_data_df[\"Wind Speed\"] < 10) & \\\n",
    "                   (city_data_df[\"Cloudiness\"] == 10)\n",
    "\n",
    "# Narrow down cities that fit the ideal conditions\n",
    "ideal_cities_df = city_data_df[ideal_conditions].copy()\n",
    "\n",
    "# Drop any rows with null values\n",
    "ideal_cities_df.dropna(inplace=True)\n",
    "\n",
    "# Display sample data\n",
    "ideal_cities_df"
   ]
  },
  {
   "cell_type": "markdown",
   "metadata": {},
   "source": [
    "### Step 3: Create a new DataFrame called `hotel_df`."
   ]
  },
  {
   "cell_type": "code",
   "execution_count": 12,
   "metadata": {},
   "outputs": [
    {
     "data": {
      "text/html": [
       "<div>\n",
       "<style scoped>\n",
       "    .dataframe tbody tr th:only-of-type {\n",
       "        vertical-align: middle;\n",
       "    }\n",
       "\n",
       "    .dataframe tbody tr th {\n",
       "        vertical-align: top;\n",
       "    }\n",
       "\n",
       "    .dataframe thead th {\n",
       "        text-align: right;\n",
       "    }\n",
       "</style>\n",
       "<table border=\"1\" class=\"dataframe\">\n",
       "  <thead>\n",
       "    <tr style=\"text-align: right;\">\n",
       "      <th></th>\n",
       "      <th>City_ID</th>\n",
       "      <th>City</th>\n",
       "      <th>Lat</th>\n",
       "      <th>Lng</th>\n",
       "      <th>Max Temp</th>\n",
       "      <th>Humidity</th>\n",
       "      <th>Cloudiness</th>\n",
       "      <th>Wind Speed</th>\n",
       "      <th>Country</th>\n",
       "      <th>Date</th>\n",
       "      <th>Hotel Name</th>\n",
       "    </tr>\n",
       "  </thead>\n",
       "  <tbody>\n",
       "  </tbody>\n",
       "</table>\n",
       "</div>"
      ],
      "text/plain": [
       "Empty DataFrame\n",
       "Columns: [City_ID, City, Lat, Lng, Max Temp, Humidity, Cloudiness, Wind Speed, Country, Date, Hotel Name]\n",
       "Index: []"
      ]
     },
     "execution_count": 12,
     "metadata": {},
     "output_type": "execute_result"
    }
   ],
   "source": [
    "# Use the Pandas copy function to create DataFrame called hotel_df to store the city, country, coordinates, and humidity\n",
    "hotel_df = ideal_cities_df.copy()\n",
    "\n",
    "# Add an empty column, \"Hotel Name,\" to the DataFrame so you can store the hotel found using the Geoapify API\n",
    "hotel_df[\"Hotel Name\"] = \"\"\n",
    "\n",
    "# Display sample data\n",
    "hotel_df"
   ]
  },
  {
   "cell_type": "markdown",
   "metadata": {},
   "source": [
    "### Step 4: For each city, use the Geoapify API to find the first hotel located within 10,000 metres of your coordinates."
   ]
  },
  {
   "cell_type": "code",
   "execution_count": 13,
   "metadata": {},
   "outputs": [
    {
     "ename": "IndentationError",
     "evalue": "unexpected indent (4077823898.py, line 31)",
     "output_type": "error",
     "traceback": [
      "\u001b[1;36m  Cell \u001b[1;32mIn[13], line 31\u001b[1;36m\u001b[0m\n\u001b[1;33m    try:\u001b[0m\n\u001b[1;37m    ^\u001b[0m\n\u001b[1;31mIndentationError\u001b[0m\u001b[1;31m:\u001b[0m unexpected indent\n"
     ]
    }
   ],
   "source": [
    "# Set parameters to search for a hotel\n",
    "radius = 10000\n",
    "params = {\n",
    "    \"filter\": \"category=hotels\",\n",
    "    \"limit\": 1,\n",
    "    \"apiKey\": geoapify_key\n",
    "}\n",
    "\n",
    "# Print a message to follow up the hotel search\n",
    "print(\"Starting hotel search\")\n",
    "\n",
    "# Iterate through the hotel_df DataFrame\n",
    "for index, row in hotel_df.iterrows():\n",
    "    lat = row[\"Lat\"]\n",
    "    lng = row[\"Lng\"]\n",
    "    \n",
    "    # Add filter and bias parameters with the current city's latitude and longitude to the params dictionary\n",
    "    params[\"bias\"] = f\"proximity,{lng},{lat}\"\n",
    "    \n",
    "    # Set base URL\n",
    "    base_url = \"https://api.geoapify.com/v2/places\"\n",
    "\n",
    "\n",
    "   # Make and API request using the params dictionaty\n",
    "response = requests.get(base_url, params=params)\n",
    "    \n",
    "# Convert the API response to JSON format\n",
    "name_address = response.json()\n",
    "    \n",
    "    # Grab the first hotel from the results and store the name in the hotel_df DataFrame\n",
    "    try:\n",
    "        hotel_df.loc[index, \"Hotel Name\"] = name_address[\"features\"][0][\"properties\"][\"name\"]\n",
    "    except (KeyError, IndexError):\n",
    "        # If no hotel is found, set the hotel name as \"No hotel found\".\n",
    "        hotel_df.loc[index, \"Hotel Name\"] = \"No hotel found\"\n",
    "        \n",
    "    # Log the search results\n",
    "    print(f\"{hotel_df.loc[index, 'City']} - nearest hotel: {hotel_df.loc[index, 'Hotel Name']}\")\n",
    "\n",
    "# Display sample data\n",
    "hotel_df"
   ]
  },
  {
   "cell_type": "markdown",
   "metadata": {},
   "source": [
    "### Step 5: Add the hotel name and the country as additional information in the hover message for each city in the map."
   ]
  },
  {
   "cell_type": "code",
   "execution_count": null,
   "metadata": {},
   "outputs": [
    {
     "data": {},
     "metadata": {},
     "output_type": "display_data"
    },
    {
     "data": {
      "application/vnd.holoviews_exec.v0+json": "",
      "text/html": [
       "<div id='1139'>\n",
       "  <div class=\"bk-root\" id=\"7b5a7bdc-70f8-4d0f-98b5-94088c2a4292\" data-root-id=\"1139\"></div>\n",
       "</div>\n",
       "<script type=\"application/javascript\">(function(root) {\n",
       "  function embed_document(root) {\n",
       "    var docs_json = {\"c8f53044-6bb6-451a-8ec5-6a7e93149cf2\":{\"defs\":[{\"extends\":null,\"module\":null,\"name\":\"ReactiveHTML1\",\"overrides\":[],\"properties\":[]},{\"extends\":null,\"module\":null,\"name\":\"FlexBox1\",\"overrides\":[],\"properties\":[{\"default\":\"flex-start\",\"kind\":null,\"name\":\"align_content\"},{\"default\":\"flex-start\",\"kind\":null,\"name\":\"align_items\"},{\"default\":\"row\",\"kind\":null,\"name\":\"flex_direction\"},{\"default\":\"wrap\",\"kind\":null,\"name\":\"flex_wrap\"},{\"default\":\"flex-start\",\"kind\":null,\"name\":\"justify_content\"}]},{\"extends\":null,\"module\":null,\"name\":\"GridStack1\",\"overrides\":[],\"properties\":[{\"default\":\"warn\",\"kind\":null,\"name\":\"mode\"},{\"default\":null,\"kind\":null,\"name\":\"ncols\"},{\"default\":null,\"kind\":null,\"name\":\"nrows\"},{\"default\":true,\"kind\":null,\"name\":\"allow_resize\"},{\"default\":true,\"kind\":null,\"name\":\"allow_drag\"},{\"default\":[],\"kind\":null,\"name\":\"state\"}]},{\"extends\":null,\"module\":null,\"name\":\"click1\",\"overrides\":[],\"properties\":[{\"default\":\"\",\"kind\":null,\"name\":\"terminal_output\"},{\"default\":\"\",\"kind\":null,\"name\":\"debug_name\"},{\"default\":0,\"kind\":null,\"name\":\"clears\"}]},{\"extends\":null,\"module\":null,\"name\":\"NotificationAreaBase1\",\"overrides\":[],\"properties\":[{\"default\":\"bottom-right\",\"kind\":null,\"name\":\"position\"},{\"default\":0,\"kind\":null,\"name\":\"_clear\"}]},{\"extends\":null,\"module\":null,\"name\":\"NotificationArea1\",\"overrides\":[],\"properties\":[{\"default\":[],\"kind\":null,\"name\":\"notifications\"},{\"default\":\"bottom-right\",\"kind\":null,\"name\":\"position\"},{\"default\":0,\"kind\":null,\"name\":\"_clear\"},{\"default\":[{\"background\":\"#ffc107\",\"icon\":{\"className\":\"fas fa-exclamation-triangle\",\"color\":\"white\",\"tagName\":\"i\"},\"type\":\"warning\"},{\"background\":\"#007bff\",\"icon\":{\"className\":\"fas fa-info-circle\",\"color\":\"white\",\"tagName\":\"i\"},\"type\":\"info\"}],\"kind\":null,\"name\":\"types\"}]},{\"extends\":null,\"module\":null,\"name\":\"Notification\",\"overrides\":[],\"properties\":[{\"default\":null,\"kind\":null,\"name\":\"background\"},{\"default\":3000,\"kind\":null,\"name\":\"duration\"},{\"default\":null,\"kind\":null,\"name\":\"icon\"},{\"default\":\"\",\"kind\":null,\"name\":\"message\"},{\"default\":null,\"kind\":null,\"name\":\"notification_type\"},{\"default\":false,\"kind\":null,\"name\":\"_destroyed\"}]},{\"extends\":null,\"module\":null,\"name\":\"TemplateActions1\",\"overrides\":[],\"properties\":[{\"default\":0,\"kind\":null,\"name\":\"open_modal\"},{\"default\":0,\"kind\":null,\"name\":\"close_modal\"}]},{\"extends\":null,\"module\":null,\"name\":\"MaterialTemplateActions1\",\"overrides\":[],\"properties\":[{\"default\":0,\"kind\":null,\"name\":\"open_modal\"},{\"default\":0,\"kind\":null,\"name\":\"close_modal\"}]}],\"roots\":{\"references\":[{\"attributes\":{\"dimension\":\"lat\"},\"id\":\"1186\",\"type\":\"MercatorTicker\"},{\"attributes\":{},\"id\":\"1159\",\"type\":\"LinearScale\"},{\"attributes\":{\"data\":{\"City\":[\"kapaa\",\"hilo\",\"banda\",\"makakilo city\",\"kahului\",\"gat\",\"laguna\",\"tikaitnagar\",\"san quintin\",\"santa rosalia\",\"narwar\",\"port hedland\",\"roebourne\",\"saint-francois\",\"capoterra\",\"stolac\",\"guerrero negro\"],\"Country\":[\"US\",\"US\",\"IN\",\"US\",\"US\",\"IL\",\"US\",\"IN\",\"MX\",\"MX\",\"IN\",\"AU\",\"AU\",\"FR\",\"IT\",\"BA\",\"MX\"],\"Hotel_Name\":[\"Pono Kai Resort\",\"Dolphin Bay Hotel\",\"#acnindiafy21\",\"Embassy Suites by Hilton Oahu Kapolei\",\"Maui Seaside Hotel\",\"No hotel found\",\"Holiday Inn Express & Suites\",\"No hotel found\",\"Jardines Hotel\",\"Hotel del Real\",\"No hotel found\",\"The Esplanade Hotel\",\"No hotel found\",\"Chez Lily\",\"Rosa Hotel\",\"Bregava\",\"Plaza sal paraiso\"],\"Humidity\":[84,83,52,81,60,100,79,59,74,56,55,73,65,57,71,68,68],\"Lat\":{\"__ndarray__\":\"3KYbJfY6Q0FhSt/CBhlBQaHNdnPcZEZBfDISjYWQQkGBO86NHydCQb49c55wUkxBP4+IuVeyUUEx0BImVchHQaFOkweBNEtBuNiVoOshSEFNdwQQCo1GQb1Ugi/doEHBUNKFDTUNQsGSVg5GIE5WQTmauSWzG1JBppZPzgZQVEEdIC/c9sNIQQ==\",\"dtype\":\"float64\",\"order\":\"little\",\"shape\":[17]},\"Lng\":{\"__ndarray__\":\"LFRC3+jpcMFo6zu9+XZwwTp/l8GIDmFBw1If7GTIcMEdPZcLe5xwwcrdWoV2hk1BjwXCcgTIacFYODltelJhQT+to958nmjBeJT6+C7XZ8HSQ6aKRYpgQR/EaBW4LGlBiS/zac7eaEHyNLCO7IgaQSpSPWqgei5BpfyDwauAPkFCQkjy0DdowQ==\",\"dtype\":\"float64\",\"order\":\"little\",\"shape\":[17]},\"color\":[\"kapaa\",\"hilo\",\"banda\",\"makakilo city\",\"kahului\",\"gat\",\"laguna\",\"tikaitnagar\",\"san quintin\",\"santa rosalia\",\"narwar\",\"port hedland\",\"roebourne\",\"saint-francois\",\"capoterra\",\"stolac\",\"guerrero negro\"],\"size\":{\"__ndarray__\":\"hR4VuY5UIkAonAXAijgiQPNZYUQr2BxAAAAAAAAAIkDaTk+x3vseQAAAAAAAACRAcLgta8HGIUDbnltFfrkeQE4BN/pjNCFAST9oEeruHUDY4arvL6odQKMUrqiHFiFA0LphP+AfIEBcz1bMBzMeQAb7lU0w2iBAB+2vZg9+IEAH7a9mD34gQA==\",\"dtype\":\"float64\",\"order\":\"little\",\"shape\":[17]}},\"selected\":{\"id\":\"1217\"},\"selection_policy\":{\"id\":\"1229\"}},\"id\":\"1216\",\"type\":\"ColumnDataSource\"},{\"attributes\":{\"bottom_units\":\"screen\",\"coordinates\":null,\"fill_alpha\":0.5,\"fill_color\":\"lightgrey\",\"group\":null,\"left_units\":\"screen\",\"level\":\"overlay\",\"line_alpha\":1.0,\"line_color\":\"black\",\"line_dash\":[4,4],\"line_width\":2,\"right_units\":\"screen\",\"syncable\":false,\"top_units\":\"screen\"},\"id\":\"1174\",\"type\":\"BoxAnnotation\"},{\"attributes\":{\"coordinates\":null,\"group\":null,\"level\":\"glyph\",\"tile_source\":{\"id\":\"1210\"}},\"id\":\"1213\",\"type\":\"TileRenderer\"},{\"attributes\":{\"source\":{\"id\":\"1216\"}},\"id\":\"1225\",\"type\":\"CDSView\"},{\"attributes\":{\"margin\":[5,5,5,5],\"name\":\"HSpacer01686\",\"sizing_mode\":\"stretch_width\"},\"id\":\"1140\",\"type\":\"Spacer\"},{\"attributes\":{\"attribution\":\"&copy; <a href=\\\"https://www.openstreetmap.org/copyright\\\">OpenStreetMap</a> contributors\",\"url\":\"https://c.tile.openstreetmap.org/{Z}/{X}/{Y}.png\"},\"id\":\"1210\",\"type\":\"WMTSTileSource\"},{\"attributes\":{\"coordinates\":null,\"data_source\":{\"id\":\"1216\"},\"glyph\":{\"id\":\"1219\"},\"group\":null,\"hover_glyph\":{\"id\":\"1222\"},\"muted_glyph\":{\"id\":\"1223\"},\"nonselection_glyph\":{\"id\":\"1220\"},\"selection_glyph\":{\"id\":\"1221\"},\"view\":{\"id\":\"1225\"}},\"id\":\"1224\",\"type\":\"GlyphRenderer\"},{\"attributes\":{\"axis\":{\"id\":\"1161\"},\"coordinates\":null,\"grid_line_color\":null,\"group\":null,\"ticker\":null},\"id\":\"1164\",\"type\":\"Grid\"},{\"attributes\":{\"click_policy\":\"mute\",\"coordinates\":null,\"group\":null,\"items\":[{\"id\":\"1233\"}],\"location\":[0,0]},\"id\":\"1232\",\"type\":\"Legend\"},{\"attributes\":{\"axis_label\":\"x\",\"coordinates\":null,\"formatter\":{\"id\":\"1185\"},\"group\":null,\"major_label_policy\":{\"id\":\"1190\"},\"ticker\":{\"id\":\"1184\"}},\"id\":\"1161\",\"type\":\"LinearAxis\"},{\"attributes\":{\"fill_alpha\":{\"value\":0.5},\"fill_color\":{\"field\":\"color\",\"transform\":{\"id\":\"1215\"}},\"hatch_alpha\":{\"value\":0.5},\"hatch_color\":{\"field\":\"color\",\"transform\":{\"id\":\"1215\"}},\"line_alpha\":{\"value\":0.5},\"line_color\":{\"field\":\"color\",\"transform\":{\"id\":\"1215\"}},\"size\":{\"field\":\"size\"},\"x\":{\"field\":\"Lng\"},\"y\":{\"field\":\"Lat\"}},\"id\":\"1222\",\"type\":\"Scatter\"},{\"attributes\":{\"zoom_on_axis\":false},\"id\":\"1171\",\"type\":\"WheelZoomTool\"},{\"attributes\":{},\"id\":\"1217\",\"type\":\"Selection\"},{\"attributes\":{},\"id\":\"1229\",\"type\":\"UnionRenderers\"},{\"attributes\":{},\"id\":\"1170\",\"type\":\"PanTool\"},{\"attributes\":{},\"id\":\"1157\",\"type\":\"LinearScale\"},{\"attributes\":{\"coordinates\":null,\"group\":null,\"text_color\":\"black\",\"text_font_size\":\"12pt\"},\"id\":\"1153\",\"type\":\"Title\"},{\"attributes\":{\"code\":\"\\n        var projections = Bokeh.require(\\\"core/util/projections\\\");\\n        var x = special_vars.data_x\\n        var y = special_vars.data_y\\n        if (projections.wgs84_mercator.invert == null) {\\n          var coords = projections.wgs84_mercator.inverse([x, y])\\n        } else {\\n          var coords = projections.wgs84_mercator.invert(x, y)\\n        }\\n        return \\\"\\\" + (coords[1]).toFixed(4)\\n    \"},\"id\":\"1235\",\"type\":\"CustomJSHover\"},{\"attributes\":{\"fill_alpha\":{\"value\":0.5},\"fill_color\":{\"field\":\"color\",\"transform\":{\"id\":\"1215\"}},\"hatch_alpha\":{\"value\":0.5},\"hatch_color\":{\"field\":\"color\",\"transform\":{\"id\":\"1215\"}},\"line_alpha\":{\"value\":0.5},\"line_color\":{\"field\":\"color\",\"transform\":{\"id\":\"1215\"}},\"size\":{\"field\":\"size\"},\"x\":{\"field\":\"Lng\"},\"y\":{\"field\":\"Lat\"}},\"id\":\"1219\",\"type\":\"Scatter\"},{\"attributes\":{\"children\":[{\"id\":\"1140\"},{\"id\":\"1152\"},{\"id\":\"1242\"}],\"margin\":[0,0,0,0],\"name\":\"Row01682\",\"tags\":[\"embedded\"]},\"id\":\"1139\",\"type\":\"Row\"},{\"attributes\":{\"callback\":null,\"formatters\":{\"$x\":{\"id\":\"1234\"},\"$y\":{\"id\":\"1235\"}},\"renderers\":[{\"id\":\"1224\"}],\"tags\":[\"hv_created\"],\"tooltips\":[[\"Lng\",\"$x{custom}\"],[\"Lat\",\"$y{custom}\"],[\"City\",\"@{City}\"],[\"Humidity\",\"@{Humidity}\"],[\"Hotel Name\",\"@{Hotel_Name}\"],[\"Country\",\"@{Country}\"]]},\"id\":\"1149\",\"type\":\"HoverTool\"},{\"attributes\":{},\"id\":\"1173\",\"type\":\"ResetTool\"},{\"attributes\":{\"fill_alpha\":{\"value\":0.2},\"fill_color\":{\"field\":\"color\",\"transform\":{\"id\":\"1215\"}},\"hatch_alpha\":{\"value\":0.2},\"hatch_color\":{\"field\":\"color\",\"transform\":{\"id\":\"1215\"}},\"line_alpha\":{\"value\":0.2},\"line_color\":{\"field\":\"color\",\"transform\":{\"id\":\"1215\"}},\"size\":{\"field\":\"size\"},\"x\":{\"field\":\"Lng\"},\"y\":{\"field\":\"Lat\"}},\"id\":\"1223\",\"type\":\"Scatter\"},{\"attributes\":{\"end\":14366716.452919383,\"min_interval\":5,\"reset_end\":14366716.452919383,\"reset_start\":-10885605.506340533,\"start\":-10885605.506340533,\"tags\":[[[\"Lat\",\"Lat\",null]]]},\"id\":\"1146\",\"type\":\"Range1d\"},{\"attributes\":{},\"id\":\"1197\",\"type\":\"AllLabels\"},{\"attributes\":{\"axis_label\":\"y\",\"coordinates\":null,\"formatter\":{\"id\":\"1187\"},\"group\":null,\"major_label_policy\":{\"id\":\"1197\"},\"ticker\":{\"id\":\"1186\"}},\"id\":\"1165\",\"type\":\"LinearAxis\"},{\"attributes\":{\"end\":15408362.72915458,\"min_interval\":5,\"reset_end\":15408362.72915458,\"reset_start\":-19944888.0138093,\"start\":-19944888.0138093,\"tags\":[[[\"Lng\",\"Lng\",null]]]},\"id\":\"1145\",\"type\":\"Range1d\"},{\"attributes\":{\"below\":[{\"id\":\"1161\"}],\"center\":[{\"id\":\"1164\"},{\"id\":\"1168\"}],\"frame_height\":500,\"frame_width\":700,\"height\":null,\"left\":[{\"id\":\"1165\"}],\"margin\":[5,5,5,5],\"match_aspect\":true,\"min_border_bottom\":10,\"min_border_left\":10,\"min_border_right\":10,\"min_border_top\":10,\"renderers\":[{\"id\":\"1213\"},{\"id\":\"1224\"}],\"right\":[{\"id\":\"1232\"}],\"sizing_mode\":\"fixed\",\"title\":{\"id\":\"1153\"},\"toolbar\":{\"id\":\"1175\"},\"width\":null,\"x_range\":{\"id\":\"1145\"},\"x_scale\":{\"id\":\"1157\"},\"y_range\":{\"id\":\"1146\"},\"y_scale\":{\"id\":\"1159\"}},\"id\":\"1152\",\"subtype\":\"Figure\",\"type\":\"Plot\"},{\"attributes\":{\"axis\":{\"id\":\"1165\"},\"coordinates\":null,\"dimension\":1,\"grid_line_color\":null,\"group\":null,\"ticker\":null},\"id\":\"1168\",\"type\":\"Grid\"},{\"attributes\":{\"label\":{\"field\":\"color\"},\"renderers\":[{\"id\":\"1224\"}]},\"id\":\"1233\",\"type\":\"LegendItem\"},{\"attributes\":{},\"id\":\"1190\",\"type\":\"AllLabels\"},{\"attributes\":{\"fill_alpha\":{\"value\":0.5},\"fill_color\":{\"field\":\"color\",\"transform\":{\"id\":\"1215\"}},\"hatch_alpha\":{\"value\":0.1},\"hatch_color\":{\"field\":\"color\",\"transform\":{\"id\":\"1215\"}},\"line_alpha\":{\"value\":0.5},\"line_color\":{\"field\":\"color\",\"transform\":{\"id\":\"1215\"}},\"size\":{\"field\":\"size\"},\"x\":{\"field\":\"Lng\"},\"y\":{\"field\":\"Lat\"}},\"id\":\"1220\",\"type\":\"Scatter\"},{\"attributes\":{\"dimension\":\"lon\"},\"id\":\"1185\",\"type\":\"MercatorTickFormatter\"},{\"attributes\":{\"tools\":[{\"id\":\"1149\"},{\"id\":\"1169\"},{\"id\":\"1170\"},{\"id\":\"1171\"},{\"id\":\"1172\"},{\"id\":\"1173\"}]},\"id\":\"1175\",\"type\":\"Toolbar\"},{\"attributes\":{\"dimension\":\"lat\"},\"id\":\"1187\",\"type\":\"MercatorTickFormatter\"},{\"attributes\":{},\"id\":\"1169\",\"type\":\"SaveTool\"},{\"attributes\":{\"factors\":[\"kapaa\",\"hilo\",\"banda\",\"makakilo city\",\"kahului\",\"gat\",\"laguna\",\"tikaitnagar\",\"san quintin\",\"santa rosalia\",\"narwar\",\"port hedland\",\"roebourne\",\"saint-francois\",\"capoterra\",\"stolac\",\"guerrero negro\"],\"palette\":[\"#1f77b3\",\"#ff7e0e\",\"#2ba02b\",\"#d62628\",\"#9367bc\",\"#8c564b\",\"#e277c1\",\"#7e7e7e\",\"#bcbc21\",\"#16bdcf\",\"#3a0182\",\"#004201\",\"#0fffa8\",\"#5d003f\",\"#bcbcff\",\"#d8afa1\",\"#b80080\"]},\"id\":\"1215\",\"type\":\"CategoricalColorMapper\"},{\"attributes\":{\"code\":\"\\n        var projections = Bokeh.require(\\\"core/util/projections\\\");\\n        var x = special_vars.data_x\\n        var y = special_vars.data_y\\n        if (projections.wgs84_mercator.invert == null) {\\n          var coords = projections.wgs84_mercator.inverse([x, y])\\n        } else {\\n          var coords = projections.wgs84_mercator.invert(x, y)\\n        }\\n        return \\\"\\\" + (coords[0]).toFixed(4)\\n    \"},\"id\":\"1234\",\"type\":\"CustomJSHover\"},{\"attributes\":{\"match_aspect\":true,\"overlay\":{\"id\":\"1174\"}},\"id\":\"1172\",\"type\":\"BoxZoomTool\"},{\"attributes\":{\"margin\":[5,5,5,5],\"name\":\"HSpacer01687\",\"sizing_mode\":\"stretch_width\"},\"id\":\"1242\",\"type\":\"Spacer\"},{\"attributes\":{\"fill_alpha\":{\"value\":0.5},\"fill_color\":{\"field\":\"color\",\"transform\":{\"id\":\"1215\"}},\"hatch_alpha\":{\"value\":0.5},\"hatch_color\":{\"field\":\"color\",\"transform\":{\"id\":\"1215\"}},\"line_alpha\":{\"value\":0.5},\"line_color\":{\"field\":\"color\",\"transform\":{\"id\":\"1215\"}},\"size\":{\"field\":\"size\"},\"x\":{\"field\":\"Lng\"},\"y\":{\"field\":\"Lat\"}},\"id\":\"1221\",\"type\":\"Scatter\"},{\"attributes\":{\"dimension\":\"lon\"},\"id\":\"1184\",\"type\":\"MercatorTicker\"}],\"root_ids\":[\"1139\"]},\"title\":\"Bokeh Application\",\"version\":\"2.4.3\"}};\n",
       "    var render_items = [{\"docid\":\"c8f53044-6bb6-451a-8ec5-6a7e93149cf2\",\"root_ids\":[\"1139\"],\"roots\":{\"1139\":\"7b5a7bdc-70f8-4d0f-98b5-94088c2a4292\"}}];\n",
       "    root.Bokeh.embed.embed_items_notebook(docs_json, render_items);\n",
       "    for (const render_item of render_items) {\n",
       "      for (const root_id of render_item.root_ids) {\n",
       "\tconst id_el = document.getElementById(root_id)\n",
       "\tif (id_el.children.length && (id_el.children[0].className === 'bk-root')) {\n",
       "\t  const root_el = id_el.children[0]\n",
       "\t  root_el.id = root_el.id + '-rendered'\n",
       "\t}\n",
       "      }\n",
       "    }\n",
       "  }\n",
       "  if (root.Bokeh !== undefined && root.Bokeh.Panel !== undefined) {\n",
       "    embed_document(root);\n",
       "  } else {\n",
       "    var attempts = 0;\n",
       "    var timer = setInterval(function(root) {\n",
       "      if (root.Bokeh !== undefined && root.Bokeh.Panel !== undefined) {\n",
       "        clearInterval(timer);\n",
       "        embed_document(root);\n",
       "      } else if (document.readyState == \"complete\") {\n",
       "        attempts++;\n",
       "        if (attempts > 200) {\n",
       "          clearInterval(timer);\n",
       "          console.log(\"Bokeh: ERROR: Unable to run BokehJS code because BokehJS library is missing\");\n",
       "        }\n",
       "      }\n",
       "    }, 25, root)\n",
       "  }\n",
       "})(window);</script>"
      ],
      "text/plain": [
       ":Overlay\n",
       "   .Tiles.I  :Tiles   [x,y]\n",
       "   .Points.I :Points   [Lng,Lat]   (City,Humidity,Hotel Name,Country)"
      ]
     },
     "execution_count": 7,
     "metadata": {
      "application/vnd.holoviews_exec.v0+json": {
       "id": "1139"
      }
     },
     "output_type": "execute_result"
    }
   ],
   "source": [
    "%%capture --no-display\n",
    "\n",
    "# Configure the map plot\n",
    "map_plot = city_data_df.hvplot.points(x='Lng', \n",
    "                                      y='Lat',\n",
    "                                      geo=True,\n",
    "                                      tiles='OSM',\n",
    "                                      frame_width=800,\n",
    "                                      frame_height=500,\n",
    "                                      size='Humidity',\n",
    "                                      title='City Humidity',\n",
    "                                      xlabel='Longitude', \n",
    "                                      ylabel='Latitude',\n",
    "                                      color='Humidity',\n",
    "                                      hover_cols=['City', 'Country', 'Hotel Name', 'Humidity'],\n",
    "                                      alpha=0.5)\n",
    "\n",
    "# Display the map\n",
    "map_plot"
   ]
  },
  {
   "cell_type": "code",
   "execution_count": null,
   "metadata": {},
   "outputs": [],
   "source": []
  }
 ],
 "metadata": {
  "kernelspec": {
   "display_name": "Python 3 (ipykernel)",
   "language": "python",
   "name": "python3"
  },
  "language_info": {
   "codemirror_mode": {
    "name": "ipython",
    "version": 3
   },
   "file_extension": ".py",
   "mimetype": "text/x-python",
   "name": "python",
   "nbconvert_exporter": "python",
   "pygments_lexer": "ipython3",
   "version": "3.10.12"
  },
  "latex_envs": {
   "LaTeX_envs_menu_present": true,
   "autoclose": false,
   "autocomplete": true,
   "bibliofile": "biblio.bib",
   "cite_by": "apalike",
   "current_citInitial": 1,
   "eqLabelWithNumbers": true,
   "eqNumInitial": 1,
   "hotkeys": {
    "equation": "Ctrl-E",
    "itemize": "Ctrl-I"
   },
   "labels_anchors": false,
   "latex_user_defs": false,
   "report_style_numbering": false,
   "user_envs_cfg": false
  }
 },
 "nbformat": 4,
 "nbformat_minor": 4
}
